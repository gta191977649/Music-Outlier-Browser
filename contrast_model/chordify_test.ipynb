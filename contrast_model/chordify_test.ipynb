{
 "cells": [
  {
   "cell_type": "code",
   "execution_count": 1,
   "id": "initial_id",
   "metadata": {
    "collapsed": true,
    "ExecuteTime": {
     "end_time": "2023-12-10T05:41:14.153980Z",
     "start_time": "2023-12-10T05:40:28.789990Z"
    }
   },
   "outputs": [
    {
     "name": "stdout",
     "output_type": "stream",
     "text": [
      "Collecting autochord\r\n",
      "  Downloading autochord-0.1.4-py3-none-any.whl (350 kB)\r\n",
      "\u001B[2K     \u001B[90m━━━━━━━━━━━━━━━━━━━━━━━━━━━━━━━━━━━━━━━\u001B[0m \u001B[32m350.3/350.3 kB\u001B[0m \u001B[31m2.3 MB/s\u001B[0m eta \u001B[36m0:00:00\u001B[0ma \u001B[36m0:00:01\u001B[0m\r\n",
      "\u001B[?25hRequirement already satisfied: librosa>=0.8 in /Users/nurupo/miniforge3/envs/Music-Outlier-Browser/lib/python3.10/site-packages (from autochord) (0.10.1)\r\n",
      "Collecting tensorflow>=2.6\r\n",
      "  Downloading tensorflow-2.15.0-cp310-cp310-macosx_12_0_arm64.whl (2.1 kB)\r\n",
      "Collecting lazycats\r\n",
      "  Downloading lazycats-0.1.0-py3-none-any.whl (3.2 kB)\r\n",
      "Requirement already satisfied: scipy>=1.4 in /Users/nurupo/miniforge3/envs/Music-Outlier-Browser/lib/python3.10/site-packages (from autochord) (1.10.0)\r\n",
      "Requirement already satisfied: numpy>=1.19 in /Users/nurupo/miniforge3/envs/Music-Outlier-Browser/lib/python3.10/site-packages (from autochord) (1.24.4)\r\n",
      "Collecting gdown>=3.11\r\n",
      "  Downloading gdown-4.7.1-py3-none-any.whl (15 kB)\r\n",
      "Collecting vamp\r\n",
      "  Downloading vamp-1.1.0.tar.gz (107 kB)\r\n",
      "\u001B[2K     \u001B[90m━━━━━━━━━━━━━━━━━━━━━━━━━━━━━━━━━━━━━━━\u001B[0m \u001B[32m107.8/107.8 kB\u001B[0m \u001B[31m2.3 MB/s\u001B[0m eta \u001B[36m0:00:00\u001B[0ma \u001B[36m0:00:01\u001B[0m\r\n",
      "\u001B[?25h  Preparing metadata (setup.py) ... \u001B[?25ldone\r\n",
      "\u001B[?25hRequirement already satisfied: requests[socks] in /Users/nurupo/miniforge3/envs/Music-Outlier-Browser/lib/python3.10/site-packages (from gdown>=3.11->autochord) (2.28.2)\r\n",
      "Requirement already satisfied: tqdm in /Users/nurupo/miniforge3/envs/Music-Outlier-Browser/lib/python3.10/site-packages (from gdown>=3.11->autochord) (4.64.1)\r\n",
      "Requirement already satisfied: six in /Users/nurupo/miniforge3/envs/Music-Outlier-Browser/lib/python3.10/site-packages (from gdown>=3.11->autochord) (1.16.0)\r\n",
      "Requirement already satisfied: filelock in /Users/nurupo/miniforge3/envs/Music-Outlier-Browser/lib/python3.10/site-packages (from gdown>=3.11->autochord) (3.12.3)\r\n",
      "Requirement already satisfied: beautifulsoup4 in /Users/nurupo/miniforge3/envs/Music-Outlier-Browser/lib/python3.10/site-packages (from gdown>=3.11->autochord) (4.12.2)\r\n",
      "Requirement already satisfied: soxr>=0.3.2 in /Users/nurupo/miniforge3/envs/Music-Outlier-Browser/lib/python3.10/site-packages (from librosa>=0.8->autochord) (0.3.5)\r\n",
      "Requirement already satisfied: decorator>=4.3.0 in /Users/nurupo/miniforge3/envs/Music-Outlier-Browser/lib/python3.10/site-packages (from librosa>=0.8->autochord) (5.1.1)\r\n",
      "Requirement already satisfied: scikit-learn>=0.20.0 in /Users/nurupo/miniforge3/envs/Music-Outlier-Browser/lib/python3.10/site-packages (from librosa>=0.8->autochord) (1.2.1)\r\n",
      "Requirement already satisfied: typing-extensions>=4.1.1 in /Users/nurupo/miniforge3/envs/Music-Outlier-Browser/lib/python3.10/site-packages (from librosa>=0.8->autochord) (4.7.1)\r\n",
      "Requirement already satisfied: soundfile>=0.12.1 in /Users/nurupo/miniforge3/envs/Music-Outlier-Browser/lib/python3.10/site-packages (from librosa>=0.8->autochord) (0.12.1)\r\n",
      "Requirement already satisfied: audioread>=2.1.9 in /Users/nurupo/miniforge3/envs/Music-Outlier-Browser/lib/python3.10/site-packages (from librosa>=0.8->autochord) (3.0.0)\r\n",
      "Requirement already satisfied: numba>=0.51.0 in /Users/nurupo/miniforge3/envs/Music-Outlier-Browser/lib/python3.10/site-packages (from librosa>=0.8->autochord) (0.57.1)\r\n",
      "Requirement already satisfied: pooch>=1.0 in /Users/nurupo/miniforge3/envs/Music-Outlier-Browser/lib/python3.10/site-packages (from librosa>=0.8->autochord) (1.6.0)\r\n",
      "Requirement already satisfied: msgpack>=1.0 in /Users/nurupo/miniforge3/envs/Music-Outlier-Browser/lib/python3.10/site-packages (from librosa>=0.8->autochord) (1.0.5)\r\n",
      "Requirement already satisfied: joblib>=0.14 in /Users/nurupo/miniforge3/envs/Music-Outlier-Browser/lib/python3.10/site-packages (from librosa>=0.8->autochord) (1.2.0)\r\n",
      "Requirement already satisfied: lazy-loader>=0.1 in /Users/nurupo/miniforge3/envs/Music-Outlier-Browser/lib/python3.10/site-packages (from librosa>=0.8->autochord) (0.3)\r\n",
      "Collecting tensorflow-macos==2.15.0\r\n",
      "  Downloading tensorflow_macos-2.15.0-cp310-cp310-macosx_12_0_arm64.whl (208.8 MB)\r\n",
      "\u001B[2K     \u001B[90m━━━━━━━━━━━━━━━━━━━━━━━━━━━━━━━━━━━━━━━\u001B[0m \u001B[32m208.8/208.8 MB\u001B[0m \u001B[31m9.8 MB/s\u001B[0m eta \u001B[36m0:00:00\u001B[0m00:01\u001B[0m00:01\u001B[0m\r\n",
      "\u001B[?25hCollecting google-pasta>=0.1.1\r\n",
      "  Downloading google_pasta-0.2.0-py3-none-any.whl (57 kB)\r\n",
      "\u001B[2K     \u001B[90m━━━━━━━━━━━━━━━━━━━━━━━━━━━━━━━━━━━━━━━━\u001B[0m \u001B[32m57.5/57.5 kB\u001B[0m \u001B[31m4.6 MB/s\u001B[0m eta \u001B[36m0:00:00\u001B[0m\r\n",
      "\u001B[?25hCollecting tensorflow-estimator<2.16,>=2.15.0\r\n",
      "  Downloading tensorflow_estimator-2.15.0-py2.py3-none-any.whl (441 kB)\r\n",
      "\u001B[2K     \u001B[90m━━━━━━━━━━━━━━━━━━━━━━━━━━━━━━━━━━━━━━\u001B[0m \u001B[32m442.0/442.0 kB\u001B[0m \u001B[31m10.2 MB/s\u001B[0m eta \u001B[36m0:00:00\u001B[0ma \u001B[36m0:00:01\u001B[0m\r\n",
      "\u001B[?25hCollecting keras<2.16,>=2.15.0\r\n",
      "  Downloading keras-2.15.0-py3-none-any.whl (1.7 MB)\r\n",
      "\u001B[2K     \u001B[90m━━━━━━━━━━━━━━━━━━━━━━━━━━━━━━━━━━━━━━━━\u001B[0m \u001B[32m1.7/1.7 MB\u001B[0m \u001B[31m15.1 MB/s\u001B[0m eta \u001B[36m0:00:00\u001B[0ma \u001B[36m0:00:01\u001B[0m\r\n",
      "\u001B[?25hRequirement already satisfied: setuptools in /Users/nurupo/miniforge3/envs/Music-Outlier-Browser/lib/python3.10/site-packages (from tensorflow-macos==2.15.0->tensorflow>=2.6->autochord) (67.1.0)\r\n",
      "Collecting tensorboard<2.16,>=2.15\r\n",
      "  Downloading tensorboard-2.15.1-py3-none-any.whl (5.5 MB)\r\n",
      "\u001B[2K     \u001B[90m━━━━━━━━━━━━━━━━━━━━━━━━━━━━━━━━━━━━━━━━\u001B[0m \u001B[32m5.5/5.5 MB\u001B[0m \u001B[31m17.5 MB/s\u001B[0m eta \u001B[36m0:00:00\u001B[0ma \u001B[36m0:00:01\u001B[0m\r\n",
      "\u001B[?25hRequirement already satisfied: h5py>=2.9.0 in /Users/nurupo/miniforge3/envs/Music-Outlier-Browser/lib/python3.10/site-packages (from tensorflow-macos==2.15.0->tensorflow>=2.6->autochord) (3.9.0)\r\n",
      "Collecting tensorflow-io-gcs-filesystem>=0.23.1\r\n",
      "  Downloading tensorflow_io_gcs_filesystem-0.34.0-cp310-cp310-macosx_12_0_arm64.whl (1.9 MB)\r\n",
      "\u001B[2K     \u001B[90m━━━━━━━━━━━━━━━━━━━━━━━━━━━━━━━━━━━━━━━━\u001B[0m \u001B[32m1.9/1.9 MB\u001B[0m \u001B[31m18.6 MB/s\u001B[0m eta \u001B[36m0:00:00\u001B[0ma \u001B[36m0:00:01\u001B[0m\r\n",
      "\u001B[?25hCollecting gast!=0.5.0,!=0.5.1,!=0.5.2,>=0.2.1\r\n",
      "  Downloading gast-0.5.4-py3-none-any.whl (19 kB)\r\n",
      "Collecting ml-dtypes~=0.2.0\r\n",
      "  Downloading ml_dtypes-0.2.0-cp310-cp310-macosx_10_9_universal2.whl (1.2 MB)\r\n",
      "\u001B[2K     \u001B[90m━━━━━━━━━━━━━━━━━━━━━━━━━━━━━━━━━━━━━━━━\u001B[0m \u001B[32m1.2/1.2 MB\u001B[0m \u001B[31m14.6 MB/s\u001B[0m eta \u001B[36m0:00:00\u001B[0m00:01\u001B[0m0:01\u001B[0m\r\n",
      "\u001B[?25hCollecting flatbuffers>=23.5.26\r\n",
      "  Downloading flatbuffers-23.5.26-py2.py3-none-any.whl (26 kB)\r\n",
      "Collecting protobuf!=4.21.0,!=4.21.1,!=4.21.2,!=4.21.3,!=4.21.4,!=4.21.5,<5.0.0dev,>=3.20.3\r\n",
      "  Downloading protobuf-4.25.1-cp37-abi3-macosx_10_9_universal2.whl (394 kB)\r\n",
      "\u001B[2K     \u001B[90m━━━━━━━━━━━━━━━━━━━━━━━━━━━━━━━━━━━━━━━\u001B[0m \u001B[32m394.2/394.2 kB\u001B[0m \u001B[31m1.3 MB/s\u001B[0m eta \u001B[36m0:00:00\u001B[0ma \u001B[36m0:00:01\u001B[0m\r\n",
      "\u001B[?25hCollecting opt-einsum>=2.3.2\r\n",
      "  Downloading opt_einsum-3.3.0-py3-none-any.whl (65 kB)\r\n",
      "\u001B[2K     \u001B[90m━━━━━━━━━━━━━━━━━━━━━━━━━━━━━━━━━━━━━━━━\u001B[0m \u001B[32m65.5/65.5 kB\u001B[0m \u001B[31m4.5 MB/s\u001B[0m eta \u001B[36m0:00:00\u001B[0m\r\n",
      "\u001B[?25hCollecting absl-py>=1.0.0\r\n",
      "  Downloading absl_py-2.0.0-py3-none-any.whl (130 kB)\r\n",
      "\u001B[2K     \u001B[90m━━━━━━━━━━━━━━━━━━━━━━━━━━━━━━━━━━━━━━━\u001B[0m \u001B[32m130.2/130.2 kB\u001B[0m \u001B[31m4.0 MB/s\u001B[0m eta \u001B[36m0:00:00\u001B[0ma \u001B[36m0:00:01\u001B[0m\r\n",
      "\u001B[?25hCollecting libclang>=13.0.0\r\n",
      "  Downloading libclang-16.0.6-py2.py3-none-macosx_11_0_arm64.whl (20.6 MB)\r\n",
      "\u001B[2K     \u001B[90m━━━━━━━━━━━━━━━━━━━━━━━━━━━━━━━━━━━━━━━━\u001B[0m \u001B[32m20.6/20.6 MB\u001B[0m \u001B[31m15.9 MB/s\u001B[0m eta \u001B[36m0:00:00\u001B[0ma \u001B[36m0:00:01\u001B[0m\r\n",
      "\u001B[?25hCollecting grpcio<2.0,>=1.24.3\r\n",
      "  Downloading grpcio-1.60.0-cp310-cp310-macosx_12_0_universal2.whl (9.6 MB)\r\n",
      "\u001B[2K     \u001B[90m━━━━━━━━━━━━━━━━━━━━━━━━━━━━━━━━━━━━━━━━\u001B[0m \u001B[32m9.6/9.6 MB\u001B[0m \u001B[31m13.0 MB/s\u001B[0m eta \u001B[36m0:00:00\u001B[0m00:01\u001B[0m00:01\u001B[0m\r\n",
      "\u001B[?25hCollecting astunparse>=1.6.0\r\n",
      "  Downloading astunparse-1.6.3-py2.py3-none-any.whl (12 kB)\r\n",
      "Collecting wrapt<1.15,>=1.11.0\r\n",
      "  Downloading wrapt-1.14.1-cp310-cp310-macosx_11_0_arm64.whl (35 kB)\r\n",
      "Collecting termcolor>=1.1.0\r\n",
      "  Downloading termcolor-2.4.0-py3-none-any.whl (7.7 kB)\r\n",
      "Requirement already satisfied: packaging in /Users/nurupo/miniforge3/envs/Music-Outlier-Browser/lib/python3.10/site-packages (from tensorflow-macos==2.15.0->tensorflow>=2.6->autochord) (23.1)\r\n",
      "Requirement already satisfied: llvmlite<0.41,>=0.40.0dev0 in /Users/nurupo/miniforge3/envs/Music-Outlier-Browser/lib/python3.10/site-packages (from numba>=0.51.0->librosa>=0.8->autochord) (0.40.1)\r\n",
      "Requirement already satisfied: appdirs>=1.3.0 in /Users/nurupo/miniforge3/envs/Music-Outlier-Browser/lib/python3.10/site-packages (from pooch>=1.0->librosa>=0.8->autochord) (1.4.4)\r\n",
      "Requirement already satisfied: threadpoolctl>=2.0.0 in /Users/nurupo/miniforge3/envs/Music-Outlier-Browser/lib/python3.10/site-packages (from scikit-learn>=0.20.0->librosa>=0.8->autochord) (3.1.0)\r\n",
      "Requirement already satisfied: cffi>=1.0 in /Users/nurupo/miniforge3/envs/Music-Outlier-Browser/lib/python3.10/site-packages (from soundfile>=0.12.1->librosa>=0.8->autochord) (1.15.1)\r\n",
      "Requirement already satisfied: soupsieve>1.2 in /Users/nurupo/miniforge3/envs/Music-Outlier-Browser/lib/python3.10/site-packages (from beautifulsoup4->gdown>=3.11->autochord) (2.5)\r\n",
      "Requirement already satisfied: idna<4,>=2.5 in /Users/nurupo/miniforge3/envs/Music-Outlier-Browser/lib/python3.10/site-packages (from requests[socks]->gdown>=3.11->autochord) (3.4)\r\n",
      "Requirement already satisfied: certifi>=2017.4.17 in /Users/nurupo/miniforge3/envs/Music-Outlier-Browser/lib/python3.10/site-packages (from requests[socks]->gdown>=3.11->autochord) (2023.11.17)\r\n",
      "Requirement already satisfied: urllib3<1.27,>=1.21.1 in /Users/nurupo/miniforge3/envs/Music-Outlier-Browser/lib/python3.10/site-packages (from requests[socks]->gdown>=3.11->autochord) (1.26.14)\r\n",
      "Requirement already satisfied: charset-normalizer<4,>=2 in /Users/nurupo/miniforge3/envs/Music-Outlier-Browser/lib/python3.10/site-packages (from requests[socks]->gdown>=3.11->autochord) (2.1.1)\r\n",
      "Requirement already satisfied: PySocks!=1.5.7,>=1.5.6 in /Users/nurupo/miniforge3/envs/Music-Outlier-Browser/lib/python3.10/site-packages (from requests[socks]->gdown>=3.11->autochord) (1.7.1)\r\n",
      "Requirement already satisfied: wheel<1.0,>=0.23.0 in /Users/nurupo/miniforge3/envs/Music-Outlier-Browser/lib/python3.10/site-packages (from astunparse>=1.6.0->tensorflow-macos==2.15.0->tensorflow>=2.6->autochord) (0.38.4)\r\n",
      "Requirement already satisfied: pycparser in /Users/nurupo/miniforge3/envs/Music-Outlier-Browser/lib/python3.10/site-packages (from cffi>=1.0->soundfile>=0.12.1->librosa>=0.8->autochord) (2.21)\r\n",
      "Collecting markdown>=2.6.8\r\n",
      "  Downloading Markdown-3.5.1-py3-none-any.whl (102 kB)\r\n",
      "\u001B[2K     \u001B[90m━━━━━━━━━━━━━━━━━━━━━━━━━━━━━━━━━━━━━━━\u001B[0m \u001B[32m102.2/102.2 kB\u001B[0m \u001B[31m2.5 MB/s\u001B[0m eta \u001B[36m0:00:00\u001B[0ma \u001B[36m0:00:01\u001B[0m\r\n",
      "\u001B[?25hCollecting werkzeug>=1.0.1\r\n",
      "  Downloading werkzeug-3.0.1-py3-none-any.whl (226 kB)\r\n",
      "\u001B[2K     \u001B[90m━━━━━━━━━━━━━━━━━━━━━━━━━━━━━━━━━━━━━━━\u001B[0m \u001B[32m226.7/226.7 kB\u001B[0m \u001B[31m5.1 MB/s\u001B[0m eta \u001B[36m0:00:00\u001B[0ma \u001B[36m0:00:01\u001B[0m\r\n",
      "\u001B[?25hCollecting protobuf!=4.21.0,!=4.21.1,!=4.21.2,!=4.21.3,!=4.21.4,!=4.21.5,<5.0.0dev,>=3.20.3\r\n",
      "  Downloading protobuf-4.23.4-cp37-abi3-macosx_10_9_universal2.whl (400 kB)\r\n",
      "\u001B[2K     \u001B[90m━━━━━━━━━━━━━━━━━━━━━━━━━━━━━━━━━━━━━━━\u001B[0m \u001B[32m400.3/400.3 kB\u001B[0m \u001B[31m6.4 MB/s\u001B[0m eta \u001B[36m0:00:00\u001B[0ma \u001B[36m0:00:01\u001B[0m\r\n",
      "\u001B[?25hCollecting google-auth<3,>=1.6.3\r\n",
      "  Downloading google_auth-2.25.2-py2.py3-none-any.whl (184 kB)\r\n",
      "\u001B[2K     \u001B[90m━━━━━━━━━━━━━━━━━━━━━━━━━━━━━━━━━━━━━━━\u001B[0m \u001B[32m184.2/184.2 kB\u001B[0m \u001B[31m4.1 MB/s\u001B[0m eta \u001B[36m0:00:00\u001B[0ma \u001B[36m0:00:01\u001B[0m\r\n",
      "\u001B[?25hCollecting tensorboard-data-server<0.8.0,>=0.7.0\r\n",
      "  Downloading tensorboard_data_server-0.7.2-py3-none-any.whl (2.4 kB)\r\n",
      "Collecting google-auth-oauthlib<2,>=0.5\r\n",
      "  Downloading google_auth_oauthlib-1.1.0-py2.py3-none-any.whl (19 kB)\r\n",
      "Collecting cachetools<6.0,>=2.0.0\r\n",
      "  Downloading cachetools-5.3.2-py3-none-any.whl (9.3 kB)\r\n",
      "Collecting pyasn1-modules>=0.2.1\r\n",
      "  Downloading pyasn1_modules-0.3.0-py2.py3-none-any.whl (181 kB)\r\n",
      "\u001B[2K     \u001B[90m━━━━━━━━━━━━━━━━━━━━━━━━━━━━━━━━━━━━━━━\u001B[0m \u001B[32m181.3/181.3 kB\u001B[0m \u001B[31m8.8 MB/s\u001B[0m eta \u001B[36m0:00:00\u001B[0m\r\n",
      "\u001B[?25hCollecting rsa<5,>=3.1.4\r\n",
      "  Downloading rsa-4.9-py3-none-any.whl (34 kB)\r\n",
      "Collecting requests-oauthlib>=0.7.0\r\n",
      "  Downloading requests_oauthlib-1.3.1-py2.py3-none-any.whl (23 kB)\r\n",
      "Requirement already satisfied: MarkupSafe>=2.1.1 in /Users/nurupo/miniforge3/envs/Music-Outlier-Browser/lib/python3.10/site-packages (from werkzeug>=1.0.1->tensorboard<2.16,>=2.15->tensorflow-macos==2.15.0->tensorflow>=2.6->autochord) (2.1.3)\r\n",
      "Collecting pyasn1<0.6.0,>=0.4.6\r\n",
      "  Downloading pyasn1-0.5.1-py2.py3-none-any.whl (84 kB)\r\n",
      "\u001B[2K     \u001B[90m━━━━━━━━━━━━━━━━━━━━━━━━━━━━━━━━━━━━━━━━\u001B[0m \u001B[32m84.9/84.9 kB\u001B[0m \u001B[31m4.3 MB/s\u001B[0m eta \u001B[36m0:00:00\u001B[0m\r\n",
      "\u001B[?25hCollecting oauthlib>=3.0.0\r\n",
      "  Downloading oauthlib-3.2.2-py3-none-any.whl (151 kB)\r\n",
      "\u001B[2K     \u001B[90m━━━━━━━━━━━━━━━━━━━━━━━━━━━━━━━━━━━━━\u001B[0m \u001B[32m151.7/151.7 kB\u001B[0m \u001B[31m604.7 kB/s\u001B[0m eta \u001B[36m0:00:00\u001B[0ma \u001B[36m0:00:01\u001B[0m\r\n",
      "\u001B[?25hBuilding wheels for collected packages: vamp\r\n",
      "  Building wheel for vamp (setup.py) ... \u001B[?25ldone\r\n",
      "\u001B[?25h  Created wheel for vamp: filename=vamp-1.1.0-cp310-cp310-macosx_11_0_arm64.whl size=116026 sha256=c32d2fe5dbea6b79f44f4bf9bcb9412981276a68b0c319f67d35465082e050e9\r\n",
      "  Stored in directory: /Users/nurupo/Library/Caches/pip/wheels/36/9e/b1/230ac612a8aa718cf3e2485eac386ae72a4da61d7c31ac4bb2\r\n",
      "Successfully built vamp\r\n",
      "Installing collected packages: vamp, libclang, flatbuffers, wrapt, werkzeug, termcolor, tensorflow-io-gcs-filesystem, tensorflow-estimator, tensorboard-data-server, pyasn1, protobuf, opt-einsum, oauthlib, ml-dtypes, markdown, lazycats, keras, grpcio, google-pasta, gast, cachetools, astunparse, absl-py, rsa, requests-oauthlib, pyasn1-modules, google-auth, gdown, google-auth-oauthlib, tensorboard, tensorflow-macos, tensorflow, autochord\r\n",
      "Successfully installed absl-py-2.0.0 astunparse-1.6.3 autochord-0.1.4 cachetools-5.3.2 flatbuffers-23.5.26 gast-0.5.4 gdown-4.7.1 google-auth-2.25.2 google-auth-oauthlib-1.1.0 google-pasta-0.2.0 grpcio-1.60.0 keras-2.15.0 lazycats-0.1.0 libclang-16.0.6 markdown-3.5.1 ml-dtypes-0.2.0 oauthlib-3.2.2 opt-einsum-3.3.0 protobuf-4.23.4 pyasn1-0.5.1 pyasn1-modules-0.3.0 requests-oauthlib-1.3.1 rsa-4.9 tensorboard-2.15.1 tensorboard-data-server-0.7.2 tensorflow-2.15.0 tensorflow-estimator-2.15.0 tensorflow-io-gcs-filesystem-0.34.0 tensorflow-macos-2.15.0 termcolor-2.4.0 vamp-1.1.0 werkzeug-3.0.1 wrapt-1.14.1\r\n"
     ]
    }
   ],
   "source": [
    "!pip install autochord"
   ]
  },
  {
   "cell_type": "code",
   "execution_count": 7,
   "outputs": [
    {
     "name": "stderr",
     "output_type": "stream",
     "text": [
      "Vamp::HostExt::PluginLoader: No library found in Vamp path for plugin \"nnls-chroma:nnls-chroma\"\n"
     ]
    },
    {
     "ename": "TypeError",
     "evalue": "Failed to load plugin: nnls-chroma:nnls-chroma",
     "output_type": "error",
     "traceback": [
      "\u001B[0;31m---------------------------------------------------------------------------\u001B[0m",
      "\u001B[0;31mTypeError\u001B[0m                                 Traceback (most recent call last)",
      "Cell \u001B[0;32mIn[7], line 2\u001B[0m\n\u001B[1;32m      1\u001B[0m \u001B[38;5;28;01mimport\u001B[39;00m \u001B[38;5;21;01mautochord\u001B[39;00m\n\u001B[0;32m----> 2\u001B[0m \u001B[43mautochord\u001B[49m\u001B[38;5;241;43m.\u001B[39;49m\u001B[43mrecognize\u001B[49m\u001B[43m(\u001B[49m\u001B[38;5;124;43m'\u001B[39;49m\u001B[38;5;124;43m../music/title.mp3\u001B[39;49m\u001B[38;5;124;43m'\u001B[39;49m\u001B[43m,\u001B[49m\u001B[43m \u001B[49m\u001B[43mlab_fn\u001B[49m\u001B[38;5;241;43m=\u001B[39;49m\u001B[38;5;124;43m'\u001B[39;49m\u001B[38;5;124;43mchords.lab\u001B[39;49m\u001B[38;5;124;43m'\u001B[39;49m\u001B[43m)\u001B[49m\n",
      "File \u001B[0;32m~/miniforge3/envs/Music-Outlier-Browser/lib/python3.10/site-packages/autochord/__init__.py:123\u001B[0m, in \u001B[0;36mrecognize\u001B[0;34m(audio_fn, lab_fn)\u001B[0m\n\u001B[1;32m    117\u001B[0m \u001B[38;5;28;01mdef\u001B[39;00m \u001B[38;5;21mrecognize\u001B[39m(audio_fn, lab_fn\u001B[38;5;241m=\u001B[39m\u001B[38;5;28;01mNone\u001B[39;00m):\n\u001B[1;32m    118\u001B[0m \u001B[38;5;250m    \u001B[39m\u001B[38;5;124;03m\"\"\"\u001B[39;00m\n\u001B[1;32m    119\u001B[0m \u001B[38;5;124;03m    Perform chord recognition on provided audio file. Optionally,\u001B[39;00m\n\u001B[1;32m    120\u001B[0m \u001B[38;5;124;03m    you may dump the labels on a LAB file (MIREX format) through `lab_fn`.\u001B[39;00m\n\u001B[1;32m    121\u001B[0m \u001B[38;5;124;03m    \"\"\"\u001B[39;00m\n\u001B[0;32m--> 123\u001B[0m     chroma_vectors \u001B[38;5;241m=\u001B[39m \u001B[43mgenerate_chroma\u001B[49m\u001B[43m(\u001B[49m\u001B[43maudio_fn\u001B[49m\u001B[43m)\u001B[49m\n\u001B[1;32m    124\u001B[0m     pred_labels \u001B[38;5;241m=\u001B[39m predict_chord_labels(chroma_vectors)\n\u001B[1;32m    126\u001B[0m     chord_labels \u001B[38;5;241m=\u001B[39m catnp\u001B[38;5;241m.\u001B[39msquash_consecutive_duplicates(pred_labels)\n",
      "File \u001B[0;32m~/miniforge3/envs/Music-Outlier-Browser/lib/python3.10/site-packages/autochord/__init__.py:97\u001B[0m, in \u001B[0;36mgenerate_chroma\u001B[0;34m(audio_fn, rollon)\u001B[0m\n\u001B[1;32m     94\u001B[0m \u001B[38;5;28;01mif\u001B[39;00m fs \u001B[38;5;241m!=\u001B[39m _SAMPLE_RATE:\n\u001B[1;32m     95\u001B[0m     samples \u001B[38;5;241m=\u001B[39m resample(samples, num\u001B[38;5;241m=\u001B[39m\u001B[38;5;28mint\u001B[39m(\u001B[38;5;28mlen\u001B[39m(samples)\u001B[38;5;241m*\u001B[39m_SAMPLE_RATE\u001B[38;5;241m/\u001B[39mfs))\n\u001B[0;32m---> 97\u001B[0m out \u001B[38;5;241m=\u001B[39m \u001B[43mvamp\u001B[49m\u001B[38;5;241;43m.\u001B[39;49m\u001B[43mcollect\u001B[49m\u001B[43m(\u001B[49m\u001B[43msamples\u001B[49m\u001B[43m,\u001B[49m\u001B[43m \u001B[49m\u001B[43m_SAMPLE_RATE\u001B[49m\u001B[43m,\u001B[49m\u001B[43m \u001B[49m\u001B[38;5;124;43m'\u001B[39;49m\u001B[38;5;124;43mnnls-chroma:nnls-chroma\u001B[39;49m\u001B[38;5;124;43m'\u001B[39;49m\u001B[43m,\u001B[49m\n\u001B[1;32m     98\u001B[0m \u001B[43m                   \u001B[49m\u001B[43moutput\u001B[49m\u001B[38;5;241;43m=\u001B[39;49m\u001B[38;5;124;43m'\u001B[39;49m\u001B[38;5;124;43mbothchroma\u001B[39;49m\u001B[38;5;124;43m'\u001B[39;49m\u001B[43m,\u001B[49m\u001B[43m \u001B[49m\u001B[43mparameters\u001B[49m\u001B[38;5;241;43m=\u001B[39;49m\u001B[43m{\u001B[49m\u001B[38;5;124;43m'\u001B[39;49m\u001B[38;5;124;43mrollon\u001B[39;49m\u001B[38;5;124;43m'\u001B[39;49m\u001B[43m:\u001B[49m\u001B[43m \u001B[49m\u001B[43mrollon\u001B[49m\u001B[43m}\u001B[49m\u001B[43m)\u001B[49m\n\u001B[1;32m    100\u001B[0m chroma \u001B[38;5;241m=\u001B[39m out[\u001B[38;5;124m'\u001B[39m\u001B[38;5;124mmatrix\u001B[39m\u001B[38;5;124m'\u001B[39m][\u001B[38;5;241m1\u001B[39m]\n\u001B[1;32m    101\u001B[0m \u001B[38;5;28;01mreturn\u001B[39;00m chroma\n",
      "File \u001B[0;32m~/miniforge3/envs/Music-Outlier-Browser/lib/python3.10/site-packages/vamp/collect.py:166\u001B[0m, in \u001B[0;36mcollect\u001B[0;34m(data, sample_rate, plugin_key, output, parameters, **kwargs)\u001B[0m\n\u001B[1;32m    111\u001B[0m \u001B[38;5;28;01mdef\u001B[39;00m \u001B[38;5;21mcollect\u001B[39m(data, sample_rate, plugin_key, output \u001B[38;5;241m=\u001B[39m \u001B[38;5;124m\"\u001B[39m\u001B[38;5;124m\"\u001B[39m, parameters \u001B[38;5;241m=\u001B[39m {}, \u001B[38;5;241m*\u001B[39m\u001B[38;5;241m*\u001B[39mkwargs):\n\u001B[1;32m    112\u001B[0m \u001B[38;5;250m    \u001B[39m\u001B[38;5;124;03m\"\"\"Process audio data with a Vamp plugin, and make the results from a\u001B[39;00m\n\u001B[1;32m    113\u001B[0m \u001B[38;5;124;03m    single plugin output available as a single structure.\u001B[39;00m\n\u001B[1;32m    114\u001B[0m \n\u001B[0;32m   (...)\u001B[0m\n\u001B[1;32m    163\u001B[0m \u001B[38;5;124;03m    vamp.process() instead.\u001B[39;00m\n\u001B[1;32m    164\u001B[0m \u001B[38;5;124;03m    \"\"\"\u001B[39;00m\n\u001B[0;32m--> 166\u001B[0m     plugin, step_size, block_size \u001B[38;5;241m=\u001B[39m \u001B[43mvamp\u001B[49m\u001B[38;5;241;43m.\u001B[39;49m\u001B[43mload\u001B[49m\u001B[38;5;241;43m.\u001B[39;49m\u001B[43mload_and_configure\u001B[49m\u001B[43m(\u001B[49m\u001B[43mdata\u001B[49m\u001B[43m,\u001B[49m\u001B[43m \u001B[49m\u001B[43msample_rate\u001B[49m\u001B[43m,\u001B[49m\u001B[43m \u001B[49m\u001B[43mplugin_key\u001B[49m\u001B[43m,\u001B[49m\u001B[43m \u001B[49m\u001B[43mparameters\u001B[49m\u001B[43m,\u001B[49m\u001B[43m \u001B[49m\u001B[38;5;241;43m*\u001B[39;49m\u001B[38;5;241;43m*\u001B[39;49m\u001B[43mkwargs\u001B[49m\u001B[43m)\u001B[49m\n\u001B[1;32m    168\u001B[0m     \u001B[38;5;28;01mif\u001B[39;00m output \u001B[38;5;241m==\u001B[39m \u001B[38;5;124m\"\u001B[39m\u001B[38;5;124m\"\u001B[39m:\n\u001B[1;32m    169\u001B[0m         output_desc \u001B[38;5;241m=\u001B[39m plugin\u001B[38;5;241m.\u001B[39mget_output(\u001B[38;5;241m0\u001B[39m)\n",
      "File \u001B[0;32m~/miniforge3/envs/Music-Outlier-Browser/lib/python3.10/site-packages/vamp/load.py:81\u001B[0m, in \u001B[0;36mload_and_configure\u001B[0;34m(data, sample_rate, plugin_key, parameters, **kwargs)\u001B[0m\n\u001B[1;32m     67\u001B[0m \u001B[38;5;28;01mdef\u001B[39;00m \u001B[38;5;21mload_and_configure\u001B[39m(data, sample_rate, plugin_key, parameters, \u001B[38;5;241m*\u001B[39m\u001B[38;5;241m*\u001B[39mkwargs):\n\u001B[1;32m     68\u001B[0m \u001B[38;5;250m    \u001B[39m\u001B[38;5;124;03m\"\"\"Load the plugin with the given plugin key, at a given sample\u001B[39;00m\n\u001B[1;32m     69\u001B[0m \u001B[38;5;124;03m    rate, configure it with the parameter keys and values in the given\u001B[39;00m\n\u001B[1;32m     70\u001B[0m \u001B[38;5;124;03m    parameter dictionary, and initialise it with its preferred step and\u001B[39;00m\n\u001B[0;32m   (...)\u001B[0m\n\u001B[1;32m     78\u001B[0m \u001B[38;5;124;03m    vamp.vampyhost.SHIFT_TIMESTAMP, or vamp.vampyhost.NO_SHIFT).\u001B[39;00m\n\u001B[1;32m     79\u001B[0m \u001B[38;5;124;03m    \"\"\"\u001B[39;00m\n\u001B[0;32m---> 81\u001B[0m     plug \u001B[38;5;241m=\u001B[39m \u001B[43mvampyhost\u001B[49m\u001B[38;5;241;43m.\u001B[39;49m\u001B[43mload_plugin\u001B[49m\u001B[43m(\u001B[49m\u001B[43mplugin_key\u001B[49m\u001B[43m,\u001B[49m\u001B[43m \u001B[49m\u001B[43msample_rate\u001B[49m\u001B[43m,\u001B[49m\n\u001B[1;32m     82\u001B[0m \u001B[43m                                 \u001B[49m\u001B[43mvampyhost\u001B[49m\u001B[38;5;241;43m.\u001B[39;49m\u001B[43mADAPT_INPUT_DOMAIN\u001B[49m\u001B[43m \u001B[49m\u001B[38;5;241;43m+\u001B[39;49m\n\u001B[1;32m     83\u001B[0m \u001B[43m                                 \u001B[49m\u001B[43mvampyhost\u001B[49m\u001B[38;5;241;43m.\u001B[39;49m\u001B[43mADAPT_CHANNEL_COUNT\u001B[49m\u001B[43m)\u001B[49m\n\u001B[1;32m     85\u001B[0m     \u001B[38;5;28;01mif\u001B[39;00m \u001B[38;5;124m\"\u001B[39m\u001B[38;5;124mprocess_timestamp_method\u001B[39m\u001B[38;5;124m\"\u001B[39m \u001B[38;5;129;01min\u001B[39;00m kwargs:\n\u001B[1;32m     86\u001B[0m         plug\u001B[38;5;241m.\u001B[39mset_process_timestamp_method(kwargs\u001B[38;5;241m.\u001B[39mpop(\u001B[38;5;124m\"\u001B[39m\u001B[38;5;124mprocess_timestamp_method\u001B[39m\u001B[38;5;124m\"\u001B[39m))\n",
      "\u001B[0;31mTypeError\u001B[0m: Failed to load plugin: nnls-chroma:nnls-chroma"
     ]
    }
   ],
   "source": [
    "import autochord\n",
    "autochord.recognize('../music/title.mp3', lab_fn='chords.lab')"
   ],
   "metadata": {
    "collapsed": false,
    "ExecuteTime": {
     "end_time": "2023-12-10T05:46:01.711689Z",
     "start_time": "2023-12-10T05:46:01.446432Z"
    }
   },
   "id": "6cfaebdbd435af1d"
  },
  {
   "cell_type": "code",
   "execution_count": null,
   "outputs": [],
   "source": [],
   "metadata": {
    "collapsed": false
   },
   "id": "6e3fe76fc76762c5"
  }
 ],
 "metadata": {
  "kernelspec": {
   "display_name": "Python 3",
   "language": "python",
   "name": "python3"
  },
  "language_info": {
   "codemirror_mode": {
    "name": "ipython",
    "version": 2
   },
   "file_extension": ".py",
   "mimetype": "text/x-python",
   "name": "python",
   "nbconvert_exporter": "python",
   "pygments_lexer": "ipython2",
   "version": "2.7.6"
  }
 },
 "nbformat": 4,
 "nbformat_minor": 5
}
